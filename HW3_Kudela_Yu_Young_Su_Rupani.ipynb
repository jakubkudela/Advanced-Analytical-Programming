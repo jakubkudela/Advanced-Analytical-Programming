{
 "cells": [
  {
   "cell_type": "markdown",
   "metadata": {},
   "source": [
    "## [Q1 8 points] Read the data"
   ]
  },
  {
   "cell_type": "markdown",
   "metadata": {},
   "source": [
    "First we import packages and then read data with read_csv method. "
   ]
  },
  {
   "cell_type": "code",
   "execution_count": 75,
   "metadata": {
    "collapsed": false
   },
   "outputs": [],
   "source": [
    "#Imports\n",
    "\n",
    "import pandas as pd\n",
    "import statsmodels.api as sm\n",
    "from patsy import dmatrices\n",
    "import matplotlib.pyplot as plt\n",
    "from sklearn import model_selection\n",
    "from sklearn import neighbors\n",
    "from sklearn import metrics"
   ]
  },
  {
   "cell_type": "code",
   "execution_count": 2,
   "metadata": {
    "collapsed": false,
    "scrolled": true
   },
   "outputs": [
    {
     "data": {
      "text/html": [
       "<div>\n",
       "<table border=\"1\" class=\"dataframe\">\n",
       "  <thead>\n",
       "    <tr style=\"text-align: right;\">\n",
       "      <th></th>\n",
       "      <th>County_State</th>\n",
       "      <th>Percent_voting</th>\n",
       "      <th>Median_Age</th>\n",
       "      <th>Mean_Savings</th>\n",
       "      <th>PerCapita_Income</th>\n",
       "      <th>Percent_Poverty</th>\n",
       "      <th>Percent_Veterans</th>\n",
       "      <th>Percent_Female</th>\n",
       "      <th>Population_Density</th>\n",
       "      <th>Percent_Nursing_Homes</th>\n",
       "      <th>Crime_Index</th>\n",
       "    </tr>\n",
       "  </thead>\n",
       "  <tbody>\n",
       "    <tr>\n",
       "      <th>0</th>\n",
       "      <td>Autauga, AL</td>\n",
       "      <td>30.92</td>\n",
       "      <td>31.7</td>\n",
       "      <td>57623</td>\n",
       "      <td>15768</td>\n",
       "      <td>15.2</td>\n",
       "      <td>10.74</td>\n",
       "      <td>51.41</td>\n",
       "      <td>60.4</td>\n",
       "      <td>2.36</td>\n",
       "      <td>457</td>\n",
       "    </tr>\n",
       "    <tr>\n",
       "      <th>1</th>\n",
       "      <td>Baldwin, AL</td>\n",
       "      <td>26.24</td>\n",
       "      <td>35.5</td>\n",
       "      <td>84935</td>\n",
       "      <td>16954</td>\n",
       "      <td>13.6</td>\n",
       "      <td>9.73</td>\n",
       "      <td>51.34</td>\n",
       "      <td>66.5</td>\n",
       "      <td>5.40</td>\n",
       "      <td>282</td>\n",
       "    </tr>\n",
       "    <tr>\n",
       "      <th>2</th>\n",
       "      <td>Barbour, AL</td>\n",
       "      <td>46.36</td>\n",
       "      <td>32.8</td>\n",
       "      <td>83656</td>\n",
       "      <td>15532</td>\n",
       "      <td>25.0</td>\n",
       "      <td>8.82</td>\n",
       "      <td>53.03</td>\n",
       "      <td>28.8</td>\n",
       "      <td>7.02</td>\n",
       "      <td>47</td>\n",
       "    </tr>\n",
       "    <tr>\n",
       "      <th>3</th>\n",
       "      <td>Blount, AL</td>\n",
       "      <td>32.92</td>\n",
       "      <td>34.5</td>\n",
       "      <td>61249</td>\n",
       "      <td>14820</td>\n",
       "      <td>15.0</td>\n",
       "      <td>9.67</td>\n",
       "      <td>51.15</td>\n",
       "      <td>62.4</td>\n",
       "      <td>2.36</td>\n",
       "      <td>185</td>\n",
       "    </tr>\n",
       "    <tr>\n",
       "      <th>4</th>\n",
       "      <td>Bullock, AL</td>\n",
       "      <td>67.67</td>\n",
       "      <td>31.7</td>\n",
       "      <td>75725</td>\n",
       "      <td>11120</td>\n",
       "      <td>33.0</td>\n",
       "      <td>7.08</td>\n",
       "      <td>50.76</td>\n",
       "      <td>17.6</td>\n",
       "      <td>2.91</td>\n",
       "      <td>141</td>\n",
       "    </tr>\n",
       "    <tr>\n",
       "      <th>5</th>\n",
       "      <td>Butler, AL</td>\n",
       "      <td>47.43</td>\n",
       "      <td>33.5</td>\n",
       "      <td>75887</td>\n",
       "      <td>12015</td>\n",
       "      <td>27.1</td>\n",
       "      <td>9.48</td>\n",
       "      <td>53.25</td>\n",
       "      <td>28.1</td>\n",
       "      <td>7.98</td>\n",
       "      <td>266</td>\n",
       "    </tr>\n",
       "    <tr>\n",
       "      <th>6</th>\n",
       "      <td>Calhoun, AL</td>\n",
       "      <td>38.44</td>\n",
       "      <td>32.7</td>\n",
       "      <td>76073</td>\n",
       "      <td>15162</td>\n",
       "      <td>18.0</td>\n",
       "      <td>11.95</td>\n",
       "      <td>51.66</td>\n",
       "      <td>190.8</td>\n",
       "      <td>4.81</td>\n",
       "      <td>560</td>\n",
       "    </tr>\n",
       "    <tr>\n",
       "      <th>7</th>\n",
       "      <td>Chambers, AL</td>\n",
       "      <td>45.36</td>\n",
       "      <td>34.8</td>\n",
       "      <td>40498</td>\n",
       "      <td>13887</td>\n",
       "      <td>18.8</td>\n",
       "      <td>10.52</td>\n",
       "      <td>52.77</td>\n",
       "      <td>62.1</td>\n",
       "      <td>6.15</td>\n",
       "      <td>218</td>\n",
       "    </tr>\n",
       "    <tr>\n",
       "      <th>8</th>\n",
       "      <td>Cherokee, AL</td>\n",
       "      <td>53.61</td>\n",
       "      <td>36.3</td>\n",
       "      <td>56386</td>\n",
       "      <td>13936</td>\n",
       "      <td>15.4</td>\n",
       "      <td>9.29</td>\n",
       "      <td>50.82</td>\n",
       "      <td>35.8</td>\n",
       "      <td>5.61</td>\n",
       "      <td>51</td>\n",
       "    </tr>\n",
       "    <tr>\n",
       "      <th>9</th>\n",
       "      <td>Chilton, AL</td>\n",
       "      <td>34.19</td>\n",
       "      <td>34.0</td>\n",
       "      <td>52230</td>\n",
       "      <td>14036</td>\n",
       "      <td>18.6</td>\n",
       "      <td>9.48</td>\n",
       "      <td>51.41</td>\n",
       "      <td>47.8</td>\n",
       "      <td>3.58</td>\n",
       "      <td>296</td>\n",
       "    </tr>\n",
       "    <tr>\n",
       "      <th>10</th>\n",
       "      <td>Choctaw, AL</td>\n",
       "      <td>52.13</td>\n",
       "      <td>32.9</td>\n",
       "      <td>81367</td>\n",
       "      <td>13423</td>\n",
       "      <td>25.0</td>\n",
       "      <td>9.94</td>\n",
       "      <td>52.54</td>\n",
       "      <td>17.6</td>\n",
       "      <td>4.16</td>\n",
       "      <td>29</td>\n",
       "    </tr>\n",
       "    <tr>\n",
       "      <th>11</th>\n",
       "      <td>Clarke, AL</td>\n",
       "      <td>42.87</td>\n",
       "      <td>31.7</td>\n",
       "      <td>87444</td>\n",
       "      <td>13750</td>\n",
       "      <td>24.4</td>\n",
       "      <td>8.79</td>\n",
       "      <td>52.18</td>\n",
       "      <td>22.4</td>\n",
       "      <td>5.07</td>\n",
       "      <td>105</td>\n",
       "    </tr>\n",
       "    <tr>\n",
       "      <th>12</th>\n",
       "      <td>Cleburne, AL</td>\n",
       "      <td>40.94</td>\n",
       "      <td>34.1</td>\n",
       "      <td>63458</td>\n",
       "      <td>14168</td>\n",
       "      <td>15.6</td>\n",
       "      <td>8.58</td>\n",
       "      <td>50.71</td>\n",
       "      <td>23.2</td>\n",
       "      <td>5.00</td>\n",
       "      <td>203</td>\n",
       "    </tr>\n",
       "    <tr>\n",
       "      <th>13</th>\n",
       "      <td>Coffee, AL</td>\n",
       "      <td>37.19</td>\n",
       "      <td>34.1</td>\n",
       "      <td>79268</td>\n",
       "      <td>17318</td>\n",
       "      <td>14.9</td>\n",
       "      <td>10.40</td>\n",
       "      <td>50.99</td>\n",
       "      <td>60.5</td>\n",
       "      <td>5.72</td>\n",
       "      <td>357</td>\n",
       "    </tr>\n",
       "    <tr>\n",
       "      <th>14</th>\n",
       "      <td>Colbert, AL</td>\n",
       "      <td>54.40</td>\n",
       "      <td>35.7</td>\n",
       "      <td>71629</td>\n",
       "      <td>15705</td>\n",
       "      <td>15.3</td>\n",
       "      <td>11.87</td>\n",
       "      <td>51.97</td>\n",
       "      <td>88.0</td>\n",
       "      <td>5.43</td>\n",
       "      <td>330</td>\n",
       "    </tr>\n",
       "    <tr>\n",
       "      <th>15</th>\n",
       "      <td>Conecuh, AL</td>\n",
       "      <td>50.02</td>\n",
       "      <td>34.5</td>\n",
       "      <td>49065</td>\n",
       "      <td>12876</td>\n",
       "      <td>27.4</td>\n",
       "      <td>8.90</td>\n",
       "      <td>52.67</td>\n",
       "      <td>16.6</td>\n",
       "      <td>3.62</td>\n",
       "      <td>171</td>\n",
       "    </tr>\n",
       "    <tr>\n",
       "      <th>16</th>\n",
       "      <td>Covington, AL</td>\n",
       "      <td>35.84</td>\n",
       "      <td>36.2</td>\n",
       "      <td>104307</td>\n",
       "      <td>13921</td>\n",
       "      <td>21.6</td>\n",
       "      <td>11.67</td>\n",
       "      <td>52.74</td>\n",
       "      <td>35.7</td>\n",
       "      <td>4.82</td>\n",
       "      <td>239</td>\n",
       "    </tr>\n",
       "    <tr>\n",
       "      <th>17</th>\n",
       "      <td>Crenshaw, AL</td>\n",
       "      <td>45.44</td>\n",
       "      <td>35.9</td>\n",
       "      <td>77907</td>\n",
       "      <td>13247</td>\n",
       "      <td>22.8</td>\n",
       "      <td>8.99</td>\n",
       "      <td>52.61</td>\n",
       "      <td>22.1</td>\n",
       "      <td>10.07</td>\n",
       "      <td>165</td>\n",
       "    </tr>\n",
       "    <tr>\n",
       "      <th>18</th>\n",
       "      <td>Cullman, AL</td>\n",
       "      <td>35.98</td>\n",
       "      <td>34.8</td>\n",
       "      <td>67879</td>\n",
       "      <td>15261</td>\n",
       "      <td>15.4</td>\n",
       "      <td>10.07</td>\n",
       "      <td>51.40</td>\n",
       "      <td>94.4</td>\n",
       "      <td>6.43</td>\n",
       "      <td>247</td>\n",
       "    </tr>\n",
       "    <tr>\n",
       "      <th>19</th>\n",
       "      <td>Dale, AL</td>\n",
       "      <td>32.29</td>\n",
       "      <td>29.1</td>\n",
       "      <td>43261</td>\n",
       "      <td>14569</td>\n",
       "      <td>17.2</td>\n",
       "      <td>10.15</td>\n",
       "      <td>49.65</td>\n",
       "      <td>88.9</td>\n",
       "      <td>4.71</td>\n",
       "      <td>201</td>\n",
       "    </tr>\n",
       "  </tbody>\n",
       "</table>\n",
       "</div>"
      ],
      "text/plain": [
       "     County_State  Percent_voting  Median_Age  Mean_Savings  PerCapita_Income  \\\n",
       "0     Autauga, AL           30.92        31.7         57623             15768   \n",
       "1     Baldwin, AL           26.24        35.5         84935             16954   \n",
       "2     Barbour, AL           46.36        32.8         83656             15532   \n",
       "3      Blount, AL           32.92        34.5         61249             14820   \n",
       "4     Bullock, AL           67.67        31.7         75725             11120   \n",
       "5      Butler, AL           47.43        33.5         75887             12015   \n",
       "6     Calhoun, AL           38.44        32.7         76073             15162   \n",
       "7    Chambers, AL           45.36        34.8         40498             13887   \n",
       "8    Cherokee, AL           53.61        36.3         56386             13936   \n",
       "9     Chilton, AL           34.19        34.0         52230             14036   \n",
       "10    Choctaw, AL           52.13        32.9         81367             13423   \n",
       "11     Clarke, AL           42.87        31.7         87444             13750   \n",
       "12   Cleburne, AL           40.94        34.1         63458             14168   \n",
       "13     Coffee, AL           37.19        34.1         79268             17318   \n",
       "14    Colbert, AL           54.40        35.7         71629             15705   \n",
       "15    Conecuh, AL           50.02        34.5         49065             12876   \n",
       "16  Covington, AL           35.84        36.2        104307             13921   \n",
       "17   Crenshaw, AL           45.44        35.9         77907             13247   \n",
       "18    Cullman, AL           35.98        34.8         67879             15261   \n",
       "19       Dale, AL           32.29        29.1         43261             14569   \n",
       "\n",
       "    Percent_Poverty  Percent_Veterans  Percent_Female  Population_Density  \\\n",
       "0              15.2             10.74           51.41                60.4   \n",
       "1              13.6              9.73           51.34                66.5   \n",
       "2              25.0              8.82           53.03                28.8   \n",
       "3              15.0              9.67           51.15                62.4   \n",
       "4              33.0              7.08           50.76                17.6   \n",
       "5              27.1              9.48           53.25                28.1   \n",
       "6              18.0             11.95           51.66               190.8   \n",
       "7              18.8             10.52           52.77                62.1   \n",
       "8              15.4              9.29           50.82                35.8   \n",
       "9              18.6              9.48           51.41                47.8   \n",
       "10             25.0              9.94           52.54                17.6   \n",
       "11             24.4              8.79           52.18                22.4   \n",
       "12             15.6              8.58           50.71                23.2   \n",
       "13             14.9             10.40           50.99                60.5   \n",
       "14             15.3             11.87           51.97                88.0   \n",
       "15             27.4              8.90           52.67                16.6   \n",
       "16             21.6             11.67           52.74                35.7   \n",
       "17             22.8              8.99           52.61                22.1   \n",
       "18             15.4             10.07           51.40                94.4   \n",
       "19             17.2             10.15           49.65                88.9   \n",
       "\n",
       "    Percent_Nursing_Homes  Crime_Index  \n",
       "0                    2.36          457  \n",
       "1                    5.40          282  \n",
       "2                    7.02           47  \n",
       "3                    2.36          185  \n",
       "4                    2.91          141  \n",
       "5                    7.98          266  \n",
       "6                    4.81          560  \n",
       "7                    6.15          218  \n",
       "8                    5.61           51  \n",
       "9                    3.58          296  \n",
       "10                   4.16           29  \n",
       "11                   5.07          105  \n",
       "12                   5.00          203  \n",
       "13                   5.72          357  \n",
       "14                   5.43          330  \n",
       "15                   3.62          171  \n",
       "16                   4.82          239  \n",
       "17                  10.07          165  \n",
       "18                   6.43          247  \n",
       "19                   4.71          201  "
      ]
     },
     "execution_count": 2,
     "metadata": {},
     "output_type": "execute_result"
    }
   ],
   "source": [
    "names = ['County_State','Percent_voting','Median_Age','Mean_Savings','PerCapita_Income', 'Percent_Poverty','Percent_Veterans','Percent_Female','Population_Density', 'Percent_Nursing_Homes','Crime_Index']\n",
    "df = pd.read_csv(\"http://www.stat.ufl.edu/~winner/data/clinton1.dat\", names = names,sep='\\s\\s+',engine='python')\n",
    "df[:20]"
   ]
  },
  {
   "cell_type": "markdown",
   "metadata": {},
   "source": [
    "## [Q2 8 points] Predict percentVoting on all regressors."
   ]
  },
  {
   "cell_type": "markdown",
   "metadata": {},
   "source": [
    "We store string of regressors in variable called regressors_string and then use it when creating dmatrices. \n",
    "Out of all regressors Median_Age and Crime_Index have the worst P value when predicting Percent_voting\n",
    "therefore we are not sure if we can trust these variables.\n",
    "Overall R-squared is 0.327 and we therefore say that there is a lot of noise in our data. "
   ]
  },
  {
   "cell_type": "code",
   "execution_count": 3,
   "metadata": {
    "collapsed": false
   },
   "outputs": [
    {
     "data": {
      "text/html": [
       "<table class=\"simpletable\">\n",
       "<caption>OLS Regression Results</caption>\n",
       "<tr>\n",
       "  <th>Dep. Variable:</th>     <td>Percent_voting</td>  <th>  R-squared:         </th> <td>   0.327</td> \n",
       "</tr>\n",
       "<tr>\n",
       "  <th>Model:</th>                   <td>OLS</td>       <th>  Adj. R-squared:    </th> <td>   0.325</td> \n",
       "</tr>\n",
       "<tr>\n",
       "  <th>Method:</th>             <td>Least Squares</td>  <th>  F-statistic:       </th> <td>   145.4</td> \n",
       "</tr>\n",
       "<tr>\n",
       "  <th>Date:</th>             <td>Fri, 14 Apr 2017</td> <th>  Prob (F-statistic):</th> <td>4.12e-224</td>\n",
       "</tr>\n",
       "<tr>\n",
       "  <th>Time:</th>                 <td>20:24:52</td>     <th>  Log-Likelihood:    </th> <td> -9576.0</td> \n",
       "</tr>\n",
       "<tr>\n",
       "  <th>No. Observations:</th>      <td>  2704</td>      <th>  AIC:               </th> <td>1.917e+04</td>\n",
       "</tr>\n",
       "<tr>\n",
       "  <th>Df Residuals:</th>          <td>  2694</td>      <th>  BIC:               </th> <td>1.923e+04</td>\n",
       "</tr>\n",
       "<tr>\n",
       "  <th>Df Model:</th>              <td>     9</td>      <th>                     </th>     <td> </td>    \n",
       "</tr>\n",
       "<tr>\n",
       "  <th>Covariance Type:</th>      <td>nonrobust</td>    <th>                     </th>     <td> </td>    \n",
       "</tr>\n",
       "</table>\n",
       "<table class=\"simpletable\">\n",
       "<tr>\n",
       "            <td></td>               <th>coef</th>     <th>std err</th>      <th>t</th>      <th>P>|t|</th> <th>[95.0% Conf. Int.]</th> \n",
       "</tr>\n",
       "<tr>\n",
       "  <th>Intercept</th>             <td>  -38.3094</td> <td>    5.818</td> <td>   -6.585</td> <td> 0.000</td> <td>  -49.717   -26.901</td>\n",
       "</tr>\n",
       "<tr>\n",
       "  <th>Median_Age</th>            <td>    0.0707</td> <td>    0.060</td> <td>    1.179</td> <td> 0.239</td> <td>   -0.047     0.188</td>\n",
       "</tr>\n",
       "<tr>\n",
       "  <th>Mean_Savings</th>          <td>-3.077e-05</td> <td> 4.93e-06</td> <td>   -6.247</td> <td> 0.000</td> <td>-4.04e-05 -2.11e-05</td>\n",
       "</tr>\n",
       "<tr>\n",
       "  <th>PerCapita_Income</th>      <td>    0.0002</td> <td> 7.42e-05</td> <td>    2.375</td> <td> 0.018</td> <td> 3.08e-05     0.000</td>\n",
       "</tr>\n",
       "<tr>\n",
       "  <th>Percent_Poverty</th>       <td>    0.7669</td> <td>    0.035</td> <td>   22.118</td> <td> 0.000</td> <td>    0.699     0.835</td>\n",
       "</tr>\n",
       "<tr>\n",
       "  <th>Percent_Veterans</th>      <td>    0.3088</td> <td>    0.087</td> <td>    3.554</td> <td> 0.000</td> <td>    0.138     0.479</td>\n",
       "</tr>\n",
       "<tr>\n",
       "  <th>Percent_Female</th>        <td>    1.1844</td> <td>    0.119</td> <td>    9.985</td> <td> 0.000</td> <td>    0.952     1.417</td>\n",
       "</tr>\n",
       "<tr>\n",
       "  <th>Population_Density</th>    <td>    0.0019</td> <td>    0.000</td> <td>    9.681</td> <td> 0.000</td> <td>    0.002     0.002</td>\n",
       "</tr>\n",
       "<tr>\n",
       "  <th>Percent_Nursing_Homes</th> <td>   -0.0908</td> <td>    0.033</td> <td>   -2.794</td> <td> 0.005</td> <td>   -0.155    -0.027</td>\n",
       "</tr>\n",
       "<tr>\n",
       "  <th>Crime_Index</th>           <td>   -0.0013</td> <td>    0.001</td> <td>   -1.469</td> <td> 0.142</td> <td>   -0.003     0.000</td>\n",
       "</tr>\n",
       "</table>\n",
       "<table class=\"simpletable\">\n",
       "<tr>\n",
       "  <th>Omnibus:</th>       <td>22.560</td> <th>  Durbin-Watson:     </th> <td>   1.360</td>\n",
       "</tr>\n",
       "<tr>\n",
       "  <th>Prob(Omnibus):</th> <td> 0.000</td> <th>  Jarque-Bera (JB):  </th> <td>  28.526</td>\n",
       "</tr>\n",
       "<tr>\n",
       "  <th>Skew:</th>          <td> 0.129</td> <th>  Prob(JB):          </th> <td>6.39e-07</td>\n",
       "</tr>\n",
       "<tr>\n",
       "  <th>Kurtosis:</th>      <td> 3.432</td> <th>  Cond. No.          </th> <td>3.62e+06</td>\n",
       "</tr>\n",
       "</table>"
      ],
      "text/plain": [
       "<class 'statsmodels.iolib.summary.Summary'>\n",
       "\"\"\"\n",
       "                            OLS Regression Results                            \n",
       "==============================================================================\n",
       "Dep. Variable:         Percent_voting   R-squared:                       0.327\n",
       "Model:                            OLS   Adj. R-squared:                  0.325\n",
       "Method:                 Least Squares   F-statistic:                     145.4\n",
       "Date:                Fri, 14 Apr 2017   Prob (F-statistic):          4.12e-224\n",
       "Time:                        20:24:52   Log-Likelihood:                -9576.0\n",
       "No. Observations:                2704   AIC:                         1.917e+04\n",
       "Df Residuals:                    2694   BIC:                         1.923e+04\n",
       "Df Model:                           9                                         \n",
       "Covariance Type:            nonrobust                                         \n",
       "=========================================================================================\n",
       "                            coef    std err          t      P>|t|      [95.0% Conf. Int.]\n",
       "-----------------------------------------------------------------------------------------\n",
       "Intercept               -38.3094      5.818     -6.585      0.000       -49.717   -26.901\n",
       "Median_Age                0.0707      0.060      1.179      0.239        -0.047     0.188\n",
       "Mean_Savings          -3.077e-05   4.93e-06     -6.247      0.000     -4.04e-05 -2.11e-05\n",
       "PerCapita_Income          0.0002   7.42e-05      2.375      0.018      3.08e-05     0.000\n",
       "Percent_Poverty           0.7669      0.035     22.118      0.000         0.699     0.835\n",
       "Percent_Veterans          0.3088      0.087      3.554      0.000         0.138     0.479\n",
       "Percent_Female            1.1844      0.119      9.985      0.000         0.952     1.417\n",
       "Population_Density        0.0019      0.000      9.681      0.000         0.002     0.002\n",
       "Percent_Nursing_Homes    -0.0908      0.033     -2.794      0.005        -0.155    -0.027\n",
       "Crime_Index              -0.0013      0.001     -1.469      0.142        -0.003     0.000\n",
       "==============================================================================\n",
       "Omnibus:                       22.560   Durbin-Watson:                   1.360\n",
       "Prob(Omnibus):                  0.000   Jarque-Bera (JB):               28.526\n",
       "Skew:                           0.129   Prob(JB):                     6.39e-07\n",
       "Kurtosis:                       3.432   Cond. No.                     3.62e+06\n",
       "==============================================================================\n",
       "\n",
       "Warnings:\n",
       "[1] Standard Errors assume that the covariance matrix of the errors is correctly specified.\n",
       "[2] The condition number is large, 3.62e+06. This might indicate that there are\n",
       "strong multicollinearity or other numerical problems.\n",
       "\"\"\""
      ]
     },
     "execution_count": 3,
     "metadata": {},
     "output_type": "execute_result"
    }
   ],
   "source": [
    "regressors = names[2:]\n",
    "regressors_string = ' + '.join(regressors)\n",
    "y, X = dmatrices('Percent_voting ~ '+regressors_string, data = df, return_type = 'dataframe')\n",
    "model = sm.OLS(y,X)\n",
    "result = model.fit()\n",
    "result.summary()"
   ]
  },
  {
   "cell_type": "markdown",
   "metadata": {},
   "source": [
    "## [Q3 8 points] A formula-creating function."
   ]
  },
  {
   "cell_type": "markdown",
   "metadata": {},
   "source": [
    "We created function called formula with one parameter - regressors_list, which returns string that we can use when creating dmatrices for our regression model later on. "
   ]
  },
  {
   "cell_type": "code",
   "execution_count": 4,
   "metadata": {
    "collapsed": false
   },
   "outputs": [
    {
     "data": {
      "text/plain": [
       "'Percent_voting ~ Percent_Poverty'"
      ]
     },
     "execution_count": 4,
     "metadata": {},
     "output_type": "execute_result"
    }
   ],
   "source": [
    "def formula(regressors_list):\n",
    "    if isinstance(regressors_list, basestring):\n",
    "        reg_string = 'Percent_voting ~ ' + regressors_list\n",
    "    else:\n",
    "        reg_string = ' + '.join(regressors_list)\n",
    "        reg_string = 'Percent_voting ~ ' + reg_string\n",
    "    return reg_string   \n",
    "\n",
    "formula(names[5])"
   ]
  },
  {
   "cell_type": "markdown",
   "metadata": {},
   "source": [
    "## [Q4 8 points] R-squared computation function"
   ]
  },
  {
   "cell_type": "markdown",
   "metadata": {},
   "source": [
    "Here we created function called rsquared with one parameter - regressors, which is a list of all regressors that we would like to use for our model. Next we convert this to string with our formula function and create model. After we fit our model we can return value of R-squared. "
   ]
  },
  {
   "cell_type": "code",
   "execution_count": 5,
   "metadata": {
    "collapsed": false
   },
   "outputs": [
    {
     "data": {
      "text/plain": [
       "0.25103851961631962"
      ]
     },
     "execution_count": 5,
     "metadata": {},
     "output_type": "execute_result"
    }
   ],
   "source": [
    "def rsquared(regressors):\n",
    "    formula_string = formula(regressors)\n",
    "    y, X = dmatrices(formula_string, data = df, return_type = 'dataframe')\n",
    "    model = sm.OLS(y,X)\n",
    "    result = model.fit()\n",
    "    return result.rsquared\n",
    "\n",
    "rsquared(names[5])"
   ]
  },
  {
   "cell_type": "markdown",
   "metadata": {},
   "source": [
    "## [Q5 8 points] Find the next best regressor."
   ]
  },
  {
   "cell_type": "markdown",
   "metadata": {},
   "source": [
    "Function called best_next_regressor goes though every single regressor that is available and appends it to our second list called current_regressor_list when it is not there yet. We also check if the list current_regressor_list is actual list and not a single value of string - only then we can use append method. We then calculated rsquared with previous function and remove added agressor and continue on with next one until we find the one with the highest overall rsquared. "
   ]
  },
  {
   "cell_type": "code",
   "execution_count": 6,
   "metadata": {
    "collapsed": false
   },
   "outputs": [
    {
     "data": {
      "text/plain": [
       "('Percent_Poverty', 0.25541066531502676)"
      ]
     },
     "execution_count": 6,
     "metadata": {},
     "output_type": "execute_result"
    }
   ],
   "source": [
    "def best_next_regressor(current_regressor_list, all_regressors_list):\n",
    "    highest_rsquared = 0\n",
    "    current_rsquared = -1\n",
    "    best_regressor = ''\n",
    "    for regressor in all_regressors_list:\n",
    "        if regressor not in current_regressor_list:\n",
    "            if isinstance(current_regressor_list, basestring):\n",
    "                current_regressor_list = [current_regressor_list]\n",
    "                pass\n",
    "            else:\n",
    "                current_regressor_list.append(regressor)\n",
    "                current_rsquared = rsquared(current_regressor_list)\n",
    "                current_regressor_list.pop()\n",
    "                if current_rsquared > highest_rsquared:\n",
    "                    best_regressor = regressor\n",
    "                    highest_rsquared = current_rsquared\n",
    "    return best_regressor, highest_rsquared\n",
    "\n",
    "\n",
    "best_next_regressor(names[9],names[2:])"
   ]
  },
  {
   "cell_type": "markdown",
   "metadata": {},
   "source": [
    "## [Q6 8 points] Pick the k best regressors. "
   ]
  },
  {
   "cell_type": "markdown",
   "metadata": {},
   "source": [
    "Function best_regressors takes two parameters - number of regressors we would like to use and list of all available regressors. First we check for input error and then with help of best_next_regressor function we choose best K regressors. We also have to keep current_regressor_list updated after we choose regressor in order for best_next_regressor to work properly. We return K best regressors with R-squared as dataframe. "
   ]
  },
  {
   "cell_type": "code",
   "execution_count": 7,
   "metadata": {
    "collapsed": false
   },
   "outputs": [
    {
     "data": {
      "text/html": [
       "<div>\n",
       "<table border=\"1\" class=\"dataframe\">\n",
       "  <thead>\n",
       "    <tr style=\"text-align: right;\">\n",
       "      <th></th>\n",
       "      <th>Regressor</th>\n",
       "      <th>R</th>\n",
       "    </tr>\n",
       "  </thead>\n",
       "  <tbody>\n",
       "    <tr>\n",
       "      <th>0</th>\n",
       "      <td>Percent_Poverty</td>\n",
       "      <td>0.251039</td>\n",
       "    </tr>\n",
       "    <tr>\n",
       "      <th>1</th>\n",
       "      <td>Population_Density</td>\n",
       "      <td>0.285830</td>\n",
       "    </tr>\n",
       "    <tr>\n",
       "      <th>2</th>\n",
       "      <td>Percent_Female</td>\n",
       "      <td>0.309145</td>\n",
       "    </tr>\n",
       "  </tbody>\n",
       "</table>\n",
       "</div>"
      ],
      "text/plain": [
       "            Regressor         R\n",
       "0     Percent_Poverty  0.251039\n",
       "1  Population_Density  0.285830\n",
       "2      Percent_Female  0.309145"
      ]
     },
     "execution_count": 7,
     "metadata": {},
     "output_type": "execute_result"
    }
   ],
   "source": [
    "def best_regressors(num_regressors,all_regressors_list):\n",
    "    final_list = []\n",
    "    if num_regressors >  len(names[2:]):\n",
    "        print 'Not enough variables'\n",
    "    else:\n",
    "        current_regressor_list = []\n",
    "        current_r = []\n",
    "        for iteration in range(num_regressors):\n",
    "            best_next_reg = best_next_regressor(current_regressor_list,names[2:])[0]\n",
    "            best_next_r  = best_next_regressor(current_regressor_list,names[2:])[1]\n",
    "            current_regressor_list.append(best_next_reg)\n",
    "            current_r.append(best_next_r)\n",
    "            final_list.append([current_regressor_list[iteration],current_r[iteration]])\n",
    "            df_regressors = pd.DataFrame(final_list,columns = ['Regressor','R'])\n",
    "        return df_regressors\n",
    "\n",
    "best_regressors(3,names[2:])"
   ]
  },
  {
   "cell_type": "markdown",
   "metadata": {},
   "source": [
    "## [Q7 8 points] Order all regressors in the best order."
   ]
  },
  {
   "cell_type": "markdown",
   "metadata": {},
   "source": [
    "Here we only call best_regressors function with maximum possible regressors. Function returns variables in right order with R-squared increasing in each step by maximum."
   ]
  },
  {
   "cell_type": "code",
   "execution_count": 8,
   "metadata": {
    "collapsed": false
   },
   "outputs": [
    {
     "data": {
      "text/html": [
       "<div>\n",
       "<table border=\"1\" class=\"dataframe\">\n",
       "  <thead>\n",
       "    <tr style=\"text-align: right;\">\n",
       "      <th></th>\n",
       "      <th>Regressor</th>\n",
       "      <th>R</th>\n",
       "    </tr>\n",
       "  </thead>\n",
       "  <tbody>\n",
       "    <tr>\n",
       "      <th>0</th>\n",
       "      <td>Percent_Poverty</td>\n",
       "      <td>0.251039</td>\n",
       "    </tr>\n",
       "    <tr>\n",
       "      <th>1</th>\n",
       "      <td>Population_Density</td>\n",
       "      <td>0.285830</td>\n",
       "    </tr>\n",
       "    <tr>\n",
       "      <th>2</th>\n",
       "      <td>Percent_Female</td>\n",
       "      <td>0.309145</td>\n",
       "    </tr>\n",
       "    <tr>\n",
       "      <th>3</th>\n",
       "      <td>Mean_Savings</td>\n",
       "      <td>0.319241</td>\n",
       "    </tr>\n",
       "    <tr>\n",
       "      <th>4</th>\n",
       "      <td>Percent_Veterans</td>\n",
       "      <td>0.322993</td>\n",
       "    </tr>\n",
       "    <tr>\n",
       "      <th>5</th>\n",
       "      <td>Percent_Nursing_Homes</td>\n",
       "      <td>0.324851</td>\n",
       "    </tr>\n",
       "    <tr>\n",
       "      <th>6</th>\n",
       "      <td>PerCapita_Income</td>\n",
       "      <td>0.325825</td>\n",
       "    </tr>\n",
       "    <tr>\n",
       "      <th>7</th>\n",
       "      <td>Crime_Index</td>\n",
       "      <td>0.326553</td>\n",
       "    </tr>\n",
       "    <tr>\n",
       "      <th>8</th>\n",
       "      <td>Median_Age</td>\n",
       "      <td>0.326900</td>\n",
       "    </tr>\n",
       "  </tbody>\n",
       "</table>\n",
       "</div>"
      ],
      "text/plain": [
       "               Regressor         R\n",
       "0        Percent_Poverty  0.251039\n",
       "1     Population_Density  0.285830\n",
       "2         Percent_Female  0.309145\n",
       "3           Mean_Savings  0.319241\n",
       "4       Percent_Veterans  0.322993\n",
       "5  Percent_Nursing_Homes  0.324851\n",
       "6       PerCapita_Income  0.325825\n",
       "7            Crime_Index  0.326553\n",
       "8             Median_Age  0.326900"
      ]
     },
     "execution_count": 8,
     "metadata": {},
     "output_type": "execute_result"
    }
   ],
   "source": [
    "best_regressors(len(names[2:]),names[2:])"
   ]
  },
  {
   "cell_type": "markdown",
   "metadata": {},
   "source": [
    "## [Q8 8 points] Plot the R-squared values as regressors are added in the best order"
   ]
  },
  {
   "cell_type": "markdown",
   "metadata": {},
   "source": [
    "Here we visualize regressors in the same order from previous question. We used plt.bar to visualize regressors indexes  on x axes and their R values on y axes. Next we changed labels on x axes to actual names."
   ]
  },
  {
   "cell_type": "code",
   "execution_count": 9,
   "metadata": {
    "collapsed": false
   },
   "outputs": [
    {
     "data": {
      "image/png": "[encoded data removed]",
      "text/plain": [
       "<matplotlib.figure.Figure at 0x10f591690>"
      ]
     },
     "metadata": {},
     "output_type": "display_data"
    }
   ],
   "source": [
    "dfreg = best_regressors(len(names[2:]),names[2:])\n",
    "plt.bar(dfreg['Regressor'].index,dfreg['R'],align = 'center')\n",
    "plt.xticks(dfreg['Regressor'].index, dfreg['Regressor'], rotation='vertical')\n",
    "plt.show()"
   ]
  },
  {
   "cell_type": "markdown",
   "metadata": {
    "collapsed": true
   },
   "source": [
    "## [Q9 8 points] Create a classification target."
   ]
  },
  {
   "cell_type": "markdown",
   "metadata": {},
   "source": [
    "To create new target column new function was created called CreateTarget, which takes every percent voting in each \n",
    "county and set positive value to class variable if this value is at least 40. "
   ]
  },
  {
   "cell_type": "code",
   "execution_count": 25,
   "metadata": {
    "collapsed": false
   },
   "outputs": [
    {
     "data": {
      "text/html": [
       "<div>\n",
       "<table border=\"1\" class=\"dataframe\">\n",
       "  <thead>\n",
       "    <tr style=\"text-align: right;\">\n",
       "      <th></th>\n",
       "      <th>County_State</th>\n",
       "      <th>Percent_voting</th>\n",
       "      <th>Median_Age</th>\n",
       "      <th>Mean_Savings</th>\n",
       "      <th>PerCapita_Income</th>\n",
       "      <th>Percent_Poverty</th>\n",
       "      <th>Percent_Veterans</th>\n",
       "      <th>Percent_Female</th>\n",
       "      <th>Population_Density</th>\n",
       "      <th>Percent_Nursing_Homes</th>\n",
       "      <th>Crime_Index</th>\n",
       "      <th>Target</th>\n",
       "    </tr>\n",
       "  </thead>\n",
       "  <tbody>\n",
       "    <tr>\n",
       "      <th>0</th>\n",
       "      <td>Autauga, AL</td>\n",
       "      <td>30.92</td>\n",
       "      <td>31.7</td>\n",
       "      <td>57623</td>\n",
       "      <td>15768</td>\n",
       "      <td>15.2</td>\n",
       "      <td>10.74</td>\n",
       "      <td>51.41</td>\n",
       "      <td>60.4</td>\n",
       "      <td>2.36</td>\n",
       "      <td>457</td>\n",
       "      <td>0</td>\n",
       "    </tr>\n",
       "    <tr>\n",
       "      <th>1</th>\n",
       "      <td>Baldwin, AL</td>\n",
       "      <td>26.24</td>\n",
       "      <td>35.5</td>\n",
       "      <td>84935</td>\n",
       "      <td>16954</td>\n",
       "      <td>13.6</td>\n",
       "      <td>9.73</td>\n",
       "      <td>51.34</td>\n",
       "      <td>66.5</td>\n",
       "      <td>5.40</td>\n",
       "      <td>282</td>\n",
       "      <td>0</td>\n",
       "    </tr>\n",
       "    <tr>\n",
       "      <th>2</th>\n",
       "      <td>Barbour, AL</td>\n",
       "      <td>46.36</td>\n",
       "      <td>32.8</td>\n",
       "      <td>83656</td>\n",
       "      <td>15532</td>\n",
       "      <td>25.0</td>\n",
       "      <td>8.82</td>\n",
       "      <td>53.03</td>\n",
       "      <td>28.8</td>\n",
       "      <td>7.02</td>\n",
       "      <td>47</td>\n",
       "      <td>1</td>\n",
       "    </tr>\n",
       "    <tr>\n",
       "      <th>3</th>\n",
       "      <td>Blount, AL</td>\n",
       "      <td>32.92</td>\n",
       "      <td>34.5</td>\n",
       "      <td>61249</td>\n",
       "      <td>14820</td>\n",
       "      <td>15.0</td>\n",
       "      <td>9.67</td>\n",
       "      <td>51.15</td>\n",
       "      <td>62.4</td>\n",
       "      <td>2.36</td>\n",
       "      <td>185</td>\n",
       "      <td>0</td>\n",
       "    </tr>\n",
       "    <tr>\n",
       "      <th>4</th>\n",
       "      <td>Bullock, AL</td>\n",
       "      <td>67.67</td>\n",
       "      <td>31.7</td>\n",
       "      <td>75725</td>\n",
       "      <td>11120</td>\n",
       "      <td>33.0</td>\n",
       "      <td>7.08</td>\n",
       "      <td>50.76</td>\n",
       "      <td>17.6</td>\n",
       "      <td>2.91</td>\n",
       "      <td>141</td>\n",
       "      <td>1</td>\n",
       "    </tr>\n",
       "    <tr>\n",
       "      <th>5</th>\n",
       "      <td>Butler, AL</td>\n",
       "      <td>47.43</td>\n",
       "      <td>33.5</td>\n",
       "      <td>75887</td>\n",
       "      <td>12015</td>\n",
       "      <td>27.1</td>\n",
       "      <td>9.48</td>\n",
       "      <td>53.25</td>\n",
       "      <td>28.1</td>\n",
       "      <td>7.98</td>\n",
       "      <td>266</td>\n",
       "      <td>1</td>\n",
       "    </tr>\n",
       "  </tbody>\n",
       "</table>\n",
       "</div>"
      ],
      "text/plain": [
       "  County_State  Percent_voting  Median_Age  Mean_Savings  PerCapita_Income  \\\n",
       "0  Autauga, AL           30.92        31.7         57623             15768   \n",
       "1  Baldwin, AL           26.24        35.5         84935             16954   \n",
       "2  Barbour, AL           46.36        32.8         83656             15532   \n",
       "3   Blount, AL           32.92        34.5         61249             14820   \n",
       "4  Bullock, AL           67.67        31.7         75725             11120   \n",
       "5   Butler, AL           47.43        33.5         75887             12015   \n",
       "\n",
       "   Percent_Poverty  Percent_Veterans  Percent_Female  Population_Density  \\\n",
       "0             15.2             10.74           51.41                60.4   \n",
       "1             13.6              9.73           51.34                66.5   \n",
       "2             25.0              8.82           53.03                28.8   \n",
       "3             15.0              9.67           51.15                62.4   \n",
       "4             33.0              7.08           50.76                17.6   \n",
       "5             27.1              9.48           53.25                28.1   \n",
       "\n",
       "   Percent_Nursing_Homes  Crime_Index  Target  \n",
       "0                   2.36          457       0  \n",
       "1                   5.40          282       0  \n",
       "2                   7.02           47       1  \n",
       "3                   2.36          185       0  \n",
       "4                   2.91          141       1  \n",
       "5                   7.98          266       1  "
      ]
     },
     "execution_count": 25,
     "metadata": {},
     "output_type": "execute_result"
    }
   ],
   "source": [
    "df_class = df.copy()\n",
    "\n",
    "def CreateTarget(val):\n",
    "    if float(val) >= 40.0:\n",
    "        return 1\n",
    "    else:\n",
    "        return 0 \n",
    "      \n",
    "df_class['Target'] = df_class['Percent_voting'].map(CreateTarget)\n",
    "df_class.ix[:5]\n"
   ]
  },
  {
   "cell_type": "markdown",
   "metadata": {},
   "source": [
    "## [Q10 8 points] Create training and test sets."
   ]
  },
  {
   "cell_type": "markdown",
   "metadata": {},
   "source": [
    "Matrices with two features and one class variable were created and returned as dataframe. Next we split our dataframe into trainig and testing parts."
   ]
  },
  {
   "cell_type": "code",
   "execution_count": null,
   "metadata": {
    "collapsed": true
   },
   "outputs": [],
   "source": [
    "Y,X = dmatrices('Target ~ 0 + Percent_Poverty + Population_Density', data = df_class, return_type = 'dataframe')\n",
    "X_train, X_test, Y_train, Y_test = model_selection.train_test_split(X,Y,test_size = 0.3)"
   ]
  },
  {
   "cell_type": "markdown",
   "metadata": {},
   "source": [
    "## [Q11 12 points] Accuracy of classification."
   ]
  },
  {
   "cell_type": "markdown",
   "metadata": {},
   "source": [
    "function kNN was created which takes either training or testing features and target variable. Then it goes through \n",
    "knn_list where numbers of neighbors are specified. First we need to check if we have more data than number of neighbors\n",
    "and then we can create model with set parameters. Accuracies of models with different parameters are returned. "
   ]
  },
  {
   "cell_type": "code",
   "execution_count": 97,
   "metadata": {
    "collapsed": false
   },
   "outputs": [
    {
     "name": "stdout",
     "output_type": "stream",
     "text": [
      "Train:\n",
      "Accuracy with 1 kNN: 0.996828752643\n",
      "Accuracy with 3 kNN: 0.793868921776\n",
      "Accuracy with 5 kNN: 0.758985200846\n",
      "Accuracy with 10 kNN: 0.706131078224\n",
      "Accuracy with 20 kNN: 0.702959830867\n",
      "Accuracy with 50 kNN: 0.677589852008\n",
      "Accuracy with 100 kNN: 0.668604651163\n",
      "Accuracy with 1000 kNN: 0.566596194503\n",
      "Test:\n",
      "Accuracy with 1 kNN: 0.998768472906\n",
      "Accuracy with 3 kNN: 0.817733990148\n",
      "Accuracy with 5 kNN: 0.746305418719\n",
      "Accuracy with 10 kNN: 0.729064039409\n",
      "Accuracy with 20 kNN: 0.679802955665\n",
      "Accuracy with 50 kNN: 0.682266009852\n",
      "Accuracy with 100 kNN: 0.667487684729\n",
      "Too many neighbors for this dataset\n"
     ]
    }
   ],
   "source": [
    "knn_list = [1,3,5,10,20,50,100,1000]\n",
    "\n",
    "def kNN(X, Y):\n",
    "    for knn in knn_list:\n",
    "        if len(X) < knn:\n",
    "            print 'Too many neighbors for this dataset'\n",
    "        else:\n",
    "            model = neighbors.KNeighborsClassifier(n_neighbors=knn,weights ='uniform',p=2)\n",
    "            model.fit(X,Y['Target'].values)\n",
    "            print 'Accuracy ' + 'with ' + str(knn) + ' kNN: ' + str(metrics.accuracy_score(y_true=Y, y_pred=model.predict(X)))\n",
    "\n",
    "print 'Train:'\n",
    "kNN(X_train, Y_train)\n",
    "\n",
    "print 'Test:'\n",
    "kNN(X_test, Y_test)"
   ]
  },
  {
   "cell_type": "markdown",
   "metadata": {},
   "source": [
    "## [Q12 8 points] Plots and reasons"
   ]
  },
  {
   "cell_type": "markdown",
   "metadata": {},
   "source": [
    "When looking at two dimensions - Percent_Poverty and Population_Density Bill Clinton was successful in 1992 election \n",
    "mostly in counties with higher population density and higher rate of poverty. Vice-versa he was not that successfull in\n",
    "counties with lower rate of poverty and lower population density. \n",
    "\n",
    "This pattern can be also seen in this analysis by NYTimes:\n",
    "http://www.nytimes.com/interactive/2010/11/07/weekinreview/20101107-detailed-exitpolls.html?_r=0\n"
   ]
  },
  {
   "cell_type": "code",
   "execution_count": 104,
   "metadata": {
    "collapsed": false
   },
   "outputs": [
    {
     "data": {
      "image/png": "[encoded data removed]",
      "text/plain": [
       "<matplotlib.figure.Figure at 0x1179b96d0>"
      ]
     },
     "metadata": {},
     "output_type": "display_data"
    }
   ],
   "source": [
    "plt.scatter(df_class['Percent_Poverty'],df_class['Population_Density'],c = df_class['Target'],cmap='bwr')\n",
    "plt.xlabel('Percent_Poverty')\n",
    "plt.ylabel('Population_Density')\n",
    "plt.colorbar()\n",
    "plt.show()"
   ]
  }
 ],
 "metadata": {
  "anaconda-cloud": {},
  "kernelspec": {
   "display_name": "Python [conda env:py27]",
   "language": "python",
   "name": "conda-env-py27-py"
  },
  "language_info": {
   "codemirror_mode": {
    "name": "ipython",
    "version": 2
   },
   "file_extension": ".py",
   "mimetype": "text/x-python",
   "name": "python",
   "nbconvert_exporter": "python",
   "pygments_lexer": "ipython2",
   "version": "2.7.12"
  }
 },
 "nbformat": 4,
 "nbformat_minor": 1
}
